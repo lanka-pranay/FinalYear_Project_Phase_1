{
 "cells": [
  {
   "cell_type": "code",
   "execution_count": 1,
   "id": "25f737af",
   "metadata": {},
   "outputs": [],
   "source": [
    "import cv2\n",
    "import numpy as np\n",
    "import os\n",
    "from skimage.restoration import denoise_wavelet"
   ]
  },
  {
   "cell_type": "code",
   "execution_count": 2,
   "id": "e8fa84c8",
   "metadata": {},
   "outputs": [],
   "source": [
    "def preprocess_image(image_path, target_size=(1024, 1024)):\n",
    "    image = cv2.imread(image_path, cv2.IMREAD_GRAYSCALE)\n",
    "    resized_image    = cv2.resize(image, target_size)\n",
    "    denoised_image = denoise_wavelet(resized_image, method='BayesShrink', mode='soft')\n",
    "    return denoised_image"
   ]
  },
  {
   "cell_type": "code",
   "execution_count": 3,
   "id": "d4ceb288",
   "metadata": {},
   "outputs": [],
   "source": [
    "def extract_prnu(image):\n",
    "    denoised_image = denoise_wavelet(image, method='BayesShrink', mode='soft')\n",
    "    prnu = image.astype(np.float32) - denoised_image\n",
    "    return prnu"
   ]
  },
  {
   "cell_type": "code",
   "execution_count": 4,
   "id": "d4ef8e7a",
   "metadata": {},
   "outputs": [],
   "source": [
    "def average_prnu(camera_images, target_size=(1024, 1024)):\n",
    "    prnu_sum = np.zeros_like(preprocess_image(camera_images[0], target_size=target_size))  \n",
    "    for image_path in camera_images:\n",
    "        prnu_sum += extract_prnu(preprocess_image(image_path, target_size=target_size))\n",
    "    avg_prnu = prnu_sum / len(camera_images)\n",
    "    return avg_prnu"
   ]
  },
  {
   "cell_type": "code",
   "execution_count": 5,
   "id": "0ab6916a",
   "metadata": {},
   "outputs": [],
   "source": [
    "def build_prnu_reference(camera_image_dict, target_size=(1024, 1024)):\n",
    "    prnu_reference = {}\n",
    "    for camera_id, images in camera_image_dict.items():\n",
    "        prnu_reference[camera_id] = average_prnu(images, target_size=target_size)\n",
    "    return prnu_reference"
   ]
  },
  {
   "cell_type": "code",
   "execution_count": 6,
   "id": "b8bfc0d8",
   "metadata": {},
   "outputs": [],
   "source": [
    "def compute_ncc(prnu1, prnu2):\n",
    "    prnu1_mean = np.mean(prnu1)\n",
    "    prnu2_mean = np.mean(prnu2)\n",
    "    \n",
    "    prnu1_normalized = prnu1 - prnu1_mean\n",
    "    prnu2_normalized = prnu2 - prnu2_mean\n",
    "    \n",
    "    ncc_value = np.sum(prnu1_normalized * prnu2_normalized) / (np.sqrt(np.sum(prnu1_normalized ** 2) * np.sum(prnu2_normalized ** 2)))\n",
    "    return ncc_value"
   ]
  },
  {
   "cell_type": "code",
   "execution_count": 7,
   "id": "a90e71d4",
   "metadata": {},
   "outputs": [],
   "source": [
    "def identify_camera(unknown_image_path, prnu_reference, target_size=(1024, 1024)):\n",
    "    unknown_image = preprocess_image(unknown_image_path, target_size=target_size)\n",
    "    unknown_prnu = extract_prnu(unknown_image)\n",
    "    \n",
    "    ncc_results = {}  \n",
    "    \n",
    "    for camera_id, ref_prnu in prnu_reference.items():\n",
    "        ncc_value = compute_ncc(unknown_prnu, ref_prnu)\n",
    "        ncc_results[camera_id] = ncc_value\n",
    "    \n",
    "    for camera_id, ncc_value in ncc_results.items():\n",
    "        print(f'Camera: {camera_id} - NCC: {ncc_value}')\n",
    "    \n",
    "    best_camera = max(ncc_results, key=ncc_results.get)\n",
    "    best_ncc = ncc_results[best_camera]\n",
    "    \n",
    "    return best_camera, best_ncc"
   ]
  },
  {
   "cell_type": "code",
   "execution_count": 8,
   "id": "f830bccd",
   "metadata": {},
   "outputs": [],
   "source": [
    "def get_image_paths(folder):\n",
    "    image_paths = []\n",
    "    for file_name in os.listdir(folder):\n",
    "        if file_name.lower().endswith(('.JPG', '.jpg')):\n",
    "            image_paths.append(os.path.join(folder, file_name))\n",
    "    return image_paths"
   ]
  },
  {
   "cell_type": "code",
   "execution_count": 9,
   "id": "ffd6c60e",
   "metadata": {},
   "outputs": [],
   "source": [
    "camera_folders = {\n",
    "    'HTC-1-M7': 'C:/Users/PRANAY LANKA/train2/HTC-1-M7',\n",
    "    'iPhone-4s': 'C:/Users/PRANAY LANKA/train2/iPhone-4s',\n",
    "    'iPhone-6': 'C:/Users/PRANAY LANKA/train2/iPhone-6',\n",
    "    'LG-Nexus-5x': 'C:/Users/PRANAY LANKA/train2/LG-Nexus-5x',\n",
    "    'Motorola-Droid-Maxx': 'C:/Users/PRANAY LANKA/train2/Motorola-Droid-Maxx',\n",
    "    'Motorola-Nexus-6': 'C:/Users/PRANAY LANKA/train2/Motorola-Nexus-6',\n",
    "    'Samsung-Galaxy-Note3': 'C:/Users/PRANAY LANKA/train2/Samsung-Galaxy-Note3',\n",
    "    'Samsung-Galaxy-S4': 'C:/Users/PRANAY LANKA/train2/Samsung-Galaxy-S4',\n",
    "    'Sony-NEX-7': 'C:/Users/PRANAY LANKA/train2/Sony-NEX-7',\n",
    "    'Motorola-X': 'C:/Users/PRANAY LANKA/train2/Motorola-X',\n",
    "    'canon': 'C:/Users/PRANAY LANKA/train2/canon',\n",
    "}"
   ]
  },
  {
   "cell_type": "code",
   "execution_count": 10,
   "id": "a1c4d2b4",
   "metadata": {},
   "outputs": [
    {
     "name": "stdout",
     "output_type": "stream",
     "text": [
      "Camera: HTC-1-M7 - NCC: -0.00033819592816669396\n",
      "Camera: iPhone-4s - NCC: 4.551891927832095e-05\n",
      "Camera: iPhone-6 - NCC: -0.0009595784815474466\n",
      "Camera: LG-Nexus-5x - NCC: 8.713530918833169e-05\n",
      "Camera: Motorola-Droid-Maxx - NCC: 0.00045122981985982216\n",
      "Camera: Motorola-Nexus-6 - NCC: 0.0018287993950376552\n",
      "Camera: Samsung-Galaxy-Note3 - NCC: 0.0010014293264812941\n",
      "Camera: Samsung-Galaxy-S4 - NCC: -0.0004136110415223915\n",
      "Camera: Sony-NEX-7 - NCC: -0.002502786122756878\n",
      "Camera: Motorola-X - NCC: -0.0022305974268464666\n",
      "Camera: canon - NCC: 0.014241736073279344\n",
      "Identified Camera: canon with normalized cross-correlation: 0.014241736073279344\n"
     ]
    }
   ],
   "source": [
    "camera_image_dict = {camera_id: get_image_paths(folder) for camera_id, folder in camera_folders.items()}\n",
    "\n",
    "prnu_reference = build_prnu_reference(camera_image_dict, target_size=(1024, 1024))\n",
    "\n",
    "unknown_image_path = 'C:/Users/PRANAY LANKA/train2/IMG_3157.JPG'\n",
    "identified_camera, ncc_value = identify_camera(unknown_image_path, prnu_reference, target_size=(1024, 1024))\n",
    "\n",
    "print(f'Identified Camera: {identified_camera} with normalized cross-correlation: {ncc_value}')"
   ]
  },
  {
   "cell_type": "code",
   "execution_count": null,
   "id": "e9c62713",
   "metadata": {},
   "outputs": [],
   "source": []
  }
 ],
 "metadata": {
  "kernelspec": {
   "display_name": "Python 3 (ipykernel)",
   "language": "python",
   "name": "python3"
  },
  "language_info": {
   "codemirror_mode": {
    "name": "ipython",
    "version": 3
   },
   "file_extension": ".py",
   "mimetype": "text/x-python",
   "name": "python",
   "nbconvert_exporter": "python",
   "pygments_lexer": "ipython3",
   "version": "3.11.5"
  }
 },
 "nbformat": 4,
 "nbformat_minor": 5
}
